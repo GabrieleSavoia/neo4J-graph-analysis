{
 "cells": [
  {
   "cell_type": "markdown",
   "id": "8bef1319",
   "metadata": {},
   "source": [
    "# Neo4j : Crime Investingation  \n",
    "## Gabriele Savoia  \n",
    "\n",
    "# 1. Descrizione e connessione con il Dataset \n",
    "\n",
    "## 1.1 Descrizione  \n",
    "\n",
    "Per questo progetto è stata utilizzata la sandbox [*crime investigation*](https://neo4j.com/sandbox/) di neo4j. Si tratta sostanzialmente di un esempio pratico di dati strutturati a grafo che seguono il modello POLE (People Object Location Event) caratterizzato dalle entità e relazioni riportate nella seguente figura :  \n",
    "\n",
    "<img src=\"./img/pole_model.jpg\" width=\"600\"/>  \n",
    "\n",
    "I dati della sandobox si riferiscono ad un contesto poliziesco investigativo in cui sono riportate le informazioni inerenti ai crimini commessi (con i rispettivi soggetti coinvolti, organi di polizia iteressati, oggetti del crimine, luoghi dei reati ed anche le relazioni che intercorrono tra i soggetti in esame). Il dataset si basa sui dati pubblici dei crimini commessi a Manchester dall'agosto 2017 (disponibili nel [sito](http://data.gov.uk)), i quali, dopo essere stati ampliati e modificati, formano una struttura a grafo con i seguenti nodi e relazioni:  \n",
    "* **nodo Crime**, con le seguenti proprità:\n",
    "    * **id**: univoco per crimine;\n",
    "    * **type**: tipologia del crimine; \n",
    "    * **date**: data in cui è stato registrato;\n",
    "    * **last_outcome**: indica lo stato del crimine.\n",
    "* **nodo Person**, con le seguenti proprietà:\n",
    "    * **nhs_no**: identificativo persona;\n",
    "    * **name** e **surname**\n",
    "* **nodo Location**, con le seguenti proprietà:\n",
    "    * **longitude** e **latitude**;\n",
    "    * **address**: indirizzo,\n",
    "    * **postcode**: contiene anche le informazioni dell'area\n",
    "* **nodo Area**, con le seguenti proprietà:\n",
    "    * **area_code**: codice dell'area;\n",
    "* **nodo PostCode**, con le seguenti proprietà:\n",
    "    * **code**: codice;\n",
    "* **nodo Email**, con le seguenti proprietà:\n",
    "    * **email_address**: email;\n",
    "* **nodo Phone**, con le seguenti proprietà:\n",
    "    * **phoneNo**: numero di telefono;\n",
    "* **nodo PhoneCall**, con le seguenti proprietà:\n",
    "    * **call_date**: istante di chiamata;\n",
    "    * **call_time**: istante chiamata,\n",
    "    * **call_type**: tipo di chiamata (messaggio o chiamata),\n",
    "    * **call_duration**: durata della chiamata\n",
    "* **nodo Object**, con le seguenti proprietà:\n",
    "    * **description**: numero di telefono;\n",
    "    * **id**: identificativo,\n",
    "    * **type**: tipologia\n",
    "* **nodo Vehicle**, con le seguenti proprietà:\n",
    "    * **reg**: numero;\n",
    "    * **year**: anno,\n",
    "    * **model**: modello,\n",
    "    * **make**: marca\n",
    "* **nodo Officer**, con le seguenti proprietà:\n",
    "    * **badge_no**: numero badge;\n",
    "    * **rank**: livello,\n",
    "    * **name** e **surname**\n",
    " \n",
    "Per quanto riguarda le relazioni, alcune di quelle più interessanti sono le seguenti:\n",
    "* relazione tra Persons: \n",
    "    * **KNOWS**: relazione generica;\n",
    "    * **FAMILY_REL**: relazione di parentela;\n",
    "    * **KNOWS_LV**: relazione per indicare la convivenza;\n",
    "    * **KNOWS_PHONE**: una persona che ha il numero di telefono di un'altra;\n",
    "    * **KNWOS_SN**: c'è una interazione tramite social network.\n",
    "* relazioni per modellare le chiamate tra Person:\n",
    "    * con le relazioni **CALLED** e **CALLER** del nodo PhoneCall al nodo Person è possibile ricostruire le\n",
    "      chiamate effettuate tra diversi soggetti.\n",
    "\n",
    "L'insieme dei dati segue quindi il modello POLE ed è possibile visualizzarli di seguito: \n",
    "\n",
    "<img src=\"./img/graph.png\" width=\"1000\"/>  "
   ]
  },
  {
   "cell_type": "markdown",
   "id": "dd9d8fb2",
   "metadata": {},
   "source": [
    "## 1.2 Connessione\n",
    "\n",
    "Una volta lanciata la sandbox neo4j è necessario collegarsi all'indirizzo specificato (in connection-detail)."
   ]
  },
  {
   "cell_type": "code",
   "execution_count": 1,
   "id": "16dbdce5",
   "metadata": {},
   "outputs": [],
   "source": [
    "from py2neo import Graph,Node,Relationship\n",
    "\n",
    "graph = Graph(\"bolt://174.129.69.102:7687\", auth=(\"neo4j\", \"beliefs-garage-lot\"))"
   ]
  },
  {
   "cell_type": "code",
   "execution_count": 2,
   "id": "6ddd695c",
   "metadata": {},
   "outputs": [
    {
     "data": {
      "text/plain": [
       "[{'total_people': 369}]"
      ]
     },
     "execution_count": 2,
     "metadata": {},
     "output_type": "execute_result"
    }
   ],
   "source": [
    "graph.run(\"MATCH (p:Person) RETURN count(DISTINCT p) AS total_people\").data()"
   ]
  },
  {
   "cell_type": "markdown",
   "id": "16c71cb2",
   "metadata": {},
   "source": [
    "## 1.3 Query particolari proposte dalla sandbox  \n",
    "\n",
    "Di seguito sono riportate alcune query proposte nello use case che utilizzano tecniche particolari (**non è stata considerata la parte di graph analytics**)"
   ]
  },
  {
   "cell_type": "code",
   "execution_count": null,
   "id": "01ffaec3",
   "metadata": {},
   "outputs": [],
   "source": [
    "# Query per effettuare ricerche basate sulla distanza tra punti definiti da \n",
    "# coordinate latitudine e longitudine\n",
    "query_1 = \"\"\"\n",
    "MATCH (l:Location {address: '1 Coronation Street', postcode: 'M5 3RW'})\n",
    "WITH point(l) AS corrie\n",
    "MATCH (x:Location)-[:HAS_POSTCODE]->(p:PostCode),\n",
    "(x)<-[:OCCURRED_AT]-(c:Crime)\n",
    "WITH x, p, c, distance(point(x), corrie) AS distance\n",
    "WHERE distance < 500\n",
    "RETURN x.address AS address, p.code AS postcode, count(c) AS crime_total, collect(distinct(c.type)) AS crime_type, distance\n",
    "ORDER BY distance\n",
    "LIMIT 10\n",
    "\"\"\"\n",
    "\n",
    "\n",
    "# L'obiettivo è quello di ricavare gli shortest path (entro un certo numero di hop) tra le persone coinvolte in \n",
    "# crimini di droga non ancora risolti di cui l'ispettore avente badge_no: '26-52' sta indagando.\n",
    "# La particolarità in questo caso è del doppio UNWIND che permette di trovare tutte le possibili coppie (prodotto \n",
    "# cartesiano) in riferimento alle 'persons' che soddisfano la query (la WHERE con il < dopo le UNWIND serve \n",
    "# a garantire che non ci siano duplicati tra le coppie (p1, p2) e che p1 != p2)\n",
    "# es. la coppia (Annie, Bonnie) è presente 1 sola volta e non esiste un'altra coppia (Bonnie, Annie)\n",
    "query_2 = \"\"\"\n",
    "MATCH (c:Crime {last_outcome: 'Under investigation', type: 'Drugs'})-[:INVESTIGATED_BY]->(:Officer {badge_no: '26-5234182'}),\n",
    "(c)<-[:PARTY_TO]-(p:Person)\n",
    "WITH COLLECT(p) AS persons\n",
    "UNWIND persons AS p1\n",
    "UNWIND persons AS p2\n",
    "WITH * WHERE id(p1) < id(p2)\n",
    "MATCH path = allshortestpaths((p1)-[:KNOWS|KNOWS_LW|KNOWS_SN|FAMILY_REL|KNOWS_PHONE*..3]-(p2))\n",
    "RETURN path\n",
    "\"\"\"\n",
    "\n",
    "\n",
    "# Il concetto è simile alla query precedente, ma è esteso al concetto di persona vulnerabile.\n",
    "# Si vuole infatti vedere se ci sono connessioni tra persone vulnerabili.\n",
    "# In questo caso con la WHERE e il <> si garantisce solo che le coppie (p1, p2) siano tali che p1 != p2, ma \n",
    "# permette la presenza di duplicati del tipo (Annie, Bonnie) e (Bonnie, Annie)\n",
    "query_3 = \"\"\"\n",
    "MATCH (p:Person)-[:KNOWS]-(friend)-[:PARTY_TO]->(:Crime)\n",
    "WHERE NOT (p:Person)-[:PARTY_TO]->(:Crime)\n",
    "WITH p, count(distinct friend) AS dangerousFriends\n",
    "ORDER BY dangerousFriends DESC\n",
    "LIMIT 5\n",
    "WITH COLLECT (p) AS people\n",
    "UNWIND people AS p1\n",
    "UNWIND people AS p2\n",
    "WITH * WHERE id(p1) <> id (p2)\n",
    "MATCH path = shortestpath((p1)-[:KNOWS*]-(p2))\n",
    "RETURN path\n",
    "\"\"\"\n",
    "\n",
    "# Si tratta di un'ulteriore definizione di persona vulnerabile.\n",
    "query_4 = \"\"\"\n",
    "MATCH (p:Person)-[:FAMILY_REL]-(relative)-[:KNOWS]-(famFriend)-[:PARTY_TO]->(:Crime),\n",
    "(p)-[:CURRENT_ADDRESS]->(:Location)<-[:CURRENT_ADDRESS]-(relative)\n",
    "WHERE NOT (p:Person)-[:PARTY_TO]->(:Crime) AND\n",
    " NOT (relative)-[:PARTY_TO]->(:Crime)\n",
    "RETURN p.name AS name, p.surname AS surname, p.nhs_no AS id, count(DISTINCT famFriend) AS DangerousFamilyFriends\n",
    "ORDER BY DangerousFamilyFriends DESC\n",
    "LIMIT 5\n",
    "\"\"\""
   ]
  },
  {
   "cell_type": "markdown",
   "id": "947e303c",
   "metadata": {},
   "source": [
    "# 2. Modifica del grafo  \n",
    "\n",
    "## 2.1 Trasformazione da property a relazione per le tipologie di crimini\n",
    " \n",
    "Nel modello attuale, per ciascun crimine è associata una *property* chiamata *type* per indicare la tipologia di crimine (di seguito sono riportate tutte le possibili tipologie attualmente presenti).  "
   ]
  },
  {
   "cell_type": "code",
   "execution_count": 3,
   "id": "c44a61bc",
   "metadata": {},
   "outputs": [
    {
     "data": {
      "text/plain": [
       "[{'type': 'Public order', 'crimes': 4839},\n",
       " {'type': 'Robbery', 'crimes': 541},\n",
       " {'type': 'Theft from the person', 'crimes': 423},\n",
       " {'type': 'Vehicle crime', 'crimes': 2598},\n",
       " {'type': 'Burglary', 'crimes': 2807},\n",
       " {'type': 'Criminal damage and arson', 'crimes': 3587},\n",
       " {'type': 'Violence and sexual offences', 'crimes': 8765},\n",
       " {'type': 'Other theft', 'crimes': 2140},\n",
       " {'type': 'Shoplifting', 'crimes': 1427},\n",
       " {'type': 'Possession of weapons', 'crimes': 236},\n",
       " {'type': 'Bicycle theft', 'crimes': 414},\n",
       " {'type': 'Other crime', 'crimes': 651},\n",
       " {'type': 'Drugs', 'crimes': 333},\n",
       " {'type': None, 'crimes': 1}]"
      ]
     },
     "execution_count": 3,
     "metadata": {},
     "output_type": "execute_result"
    }
   ],
   "source": [
    "# Query 2.1.1\n",
    "graph.run(\"MATCH (c:Crime) RETURN DISTINCT c.type AS type , count(*) AS crimes\").data()"
   ]
  },
  {
   "cell_type": "markdown",
   "id": "4b3c9e26",
   "metadata": {},
   "source": [
    "Si vuole adesso modificare questo modello al fine di gestire situazioni in cui un **crimine può essere associato a più tipi** es. \"Drugs\" e \"Possesion of weapons\" contemporaneamente. A questo punto è possibile procedere in due modi :\n",
    "* definire *type* come una **lista**: riduce la complessità del grafo ma complica query del tipo \"trovare i crimini con gli stessi tipi\";\n",
    "* modellare i tipi come **nodi**: aumenta la complessità del grafo ma permette di eseguire query come quella sopra citata in maniera più semplice ed efficace.  \n",
    "\n",
    "E' stata quindi scelta la modellazione tramite **nodi** (chiamati CrimeType) e di seguito è riportato il codice per la relativa creazione.  \n",
    "\n",
    "Prima di crearli, è stato scelto di impostare i **vincoli di unicità** sia dei nodi Crime che CrimeType che in automatico definiscono il relativo **indice sulle property** impostate come uniche.\n"
   ]
  },
  {
   "cell_type": "code",
   "execution_count": 4,
   "id": "b4e98204",
   "metadata": {},
   "outputs": [
    {
     "data": {
      "text/html": [
       "(No data)"
      ],
      "text/plain": [
       "(No data)"
      ]
     },
     "execution_count": 4,
     "metadata": {},
     "output_type": "execute_result"
    }
   ],
   "source": [
    "# Vincoli di unicità per Crime e CrimeType (indice definito in automatico su 'crime.id' e 'crime_type.name')\n",
    "\n",
    "query_1 = \"CREATE CONSTRAINT ON (c:Crime) ASSERT c.id IS UNIQUE\"\n",
    "query_2 = \"CREATE CONSTRAINT ON (c_type:CrimeType) ASSERT c_type.name IS UNIQUE\"\n",
    "\n",
    "graph.run(query_1)\n",
    "graph.run(query_2)"
   ]
  },
  {
   "cell_type": "markdown",
   "id": "a00729dc",
   "metadata": {},
   "source": [
    "Per la creazione dei nodi, i passi seguiti sono i seguenti:  \n",
    "* definisco *types* come una lista (senza duplicati) di tutti i possibili tipi di crimine;\n",
    "* effettuo l' UNWIND della lista così da avere una riga per ogni tipo di crimine e per ciascuno:\n",
    "    * con la MATCH creo i bound node relativi ad un certo tipo di crimine;\n",
    "    * tramite la MERGE creo (solo se non esiste) il nodo relativo al tipo di crimine;\n",
    "    * la seconda MERGE permette di creare la relazione OF_TYPE tra i nodi crimine (di un certo tipo) e il relativo nodo del tipo\n",
    "    * infine la property *type* è eliminata dai nodi Crime considerati"
   ]
  },
  {
   "cell_type": "code",
   "execution_count": 5,
   "id": "ddf4f6b0",
   "metadata": {},
   "outputs": [
    {
     "data": {
      "text/plain": [
       "[{'c_type.name': 'Bicycle theft'},\n",
       " {'c_type.name': 'Burglary'},\n",
       " {'c_type.name': 'Criminal damage and arson'},\n",
       " {'c_type.name': 'Drugs'},\n",
       " {'c_type.name': 'Other crime'},\n",
       " {'c_type.name': 'Other theft'},\n",
       " {'c_type.name': 'Possession of weapons'},\n",
       " {'c_type.name': 'Public order'},\n",
       " {'c_type.name': 'Robbery'},\n",
       " {'c_type.name': 'Shoplifting'},\n",
       " {'c_type.name': 'Theft from the person'},\n",
       " {'c_type.name': 'Vehicle crime'},\n",
       " {'c_type.name': 'Violence and sexual offences'}]"
      ]
     },
     "execution_count": 5,
     "metadata": {},
     "output_type": "execute_result"
    }
   ],
   "source": [
    "query = \"\"\"\n",
    "MATCH (c:Crime)\n",
    "WITH COLLECT(DISTINCT(c.type)) AS types\n",
    "UNWIND types AS type_ \n",
    "MATCH (bounded_c:Crime {type: type_})\n",
    "MERGE (c_type:CrimeType {name: type_})\n",
    "MERGE (bounded_c)-[:OF_TYPE]->(c_type)\n",
    "REMOVE bounded_c.type\n",
    "RETURN DISTINCT c_type.name\n",
    "\"\"\"\n",
    "\n",
    "graph.run(query).data()"
   ]
  },
  {
   "cell_type": "markdown",
   "id": "9d6a762a",
   "metadata": {},
   "source": [
    "La seguente query ritorna per ciascuna tipologia il numero di crimini commessi. E' possibile notare che questo risultato è analogo a ciò che stato ottenuto con la query 2.2.1 (il nodo Crime che prima aveva type a None, adesso è modellato come un nodo Crime non associato a nessun nodo CrimeType).  \n",
    "Con questa struttura però, a differenza della precedente, è possibile gestire in maniera più efficiente (in relazione a certi tipi di query) le situazioni in cui ad un crimine sono associate più tipologie."
   ]
  },
  {
   "cell_type": "code",
   "execution_count": 6,
   "id": "920d55df",
   "metadata": {},
   "outputs": [
    {
     "data": {
      "text/plain": [
       "[{'type': 'Bicycle theft', 'crimes': 414},\n",
       " {'type': 'Burglary', 'crimes': 2807},\n",
       " {'type': 'Criminal damage and arson', 'crimes': 3587},\n",
       " {'type': 'Drugs', 'crimes': 333},\n",
       " {'type': 'Other crime', 'crimes': 651},\n",
       " {'type': 'Other theft', 'crimes': 2140},\n",
       " {'type': 'Possession of weapons', 'crimes': 236},\n",
       " {'type': 'Public order', 'crimes': 4839},\n",
       " {'type': 'Robbery', 'crimes': 541},\n",
       " {'type': 'Shoplifting', 'crimes': 1427},\n",
       " {'type': 'Theft from the person', 'crimes': 423},\n",
       " {'type': 'Vehicle crime', 'crimes': 2598},\n",
       " {'type': 'Violence and sexual offences', 'crimes': 8765}]"
      ]
     },
     "execution_count": 6,
     "metadata": {},
     "output_type": "execute_result"
    }
   ],
   "source": [
    "query = \"\"\"\n",
    "MATCH (c_type:CrimeType)\n",
    "RETURN DISTINCT c_type.name AS type, size((c_type)<-[:OF_TYPE]-(:Crime)) AS crimes\n",
    "\"\"\"\n",
    "\n",
    "graph.run(query).data()"
   ]
  },
  {
   "cell_type": "markdown",
   "id": "829e1207",
   "metadata": {},
   "source": [
    "Visualmente, in relazione ad un singolo CrimeType (es. *Drug*), si ottiene un sotto-grafo come quello nella figura qua riportata (sono visualizzati solamente 300 nodi ma in realtà ne sono presenti 333 per questa relazione).  \n",
    "\n",
    "<img src=\"./img/crime_type.png\" width=\"1000\"/>  "
   ]
  },
  {
   "cell_type": "markdown",
   "id": "f2052849",
   "metadata": {},
   "source": [
    "## 2.2 Aumento dettaglio relazioni tra Person e Crime  \n",
    "\n",
    "Come suggerito anche nella sezione conclusiva della sandbox, si vuole adesso modificare la struttura del grafo aggiungendo maggiore specificità oltre alla relazione generica *PARTY_TO* tra *Person* e *Crime*.  \n",
    "In particolare si è interessati a capire in che modo (con quale \"ruolo\") un certo individuo è legato ad un crimine ed in particolare si vuole specificare relazioni del tipo: **WITNESS_TO**, **ACCUSED_OF**, **ACCOMPLICE_OF**, oltre che a **PARTY_TO.**  \n",
    "Come primo passo è stata analizzata più nel dettaglio l'attuale relazione *PARTY_TO* così da comprendere meglio la problematica da analizzare.  "
   ]
  },
  {
   "cell_type": "code",
   "execution_count": 7,
   "id": "ba087a52",
   "metadata": {},
   "outputs": [
    {
     "name": "stdout",
     "output_type": "stream",
     "text": [
      "total_people : 369\n",
      "total_crimes : 28762\n",
      "total_relations : 55\n",
      "\n",
      "distinct_people_related_to_crime : 29\n",
      "distinct_crime_with_person : 55\n",
      "property_of_relation : {'keys(r)': []}\n"
     ]
    }
   ],
   "source": [
    "query_1 = \"\"\"\n",
    "MATCH (p:Person), (c:Crime)\n",
    "RETURN count(DISTINCT p) AS total_people,\n",
    "       count(DISTINCT c) AS total_crimes\n",
    "\"\"\"\n",
    "stats_1 = graph.run(query_1).data()\n",
    "\n",
    "query_2 = \"\"\"\n",
    "MATCH (p:Person)-[r:PARTY_TO]->(c:Crime) \n",
    "RETURN count(r) AS total_relations, \n",
    "       count(DISTINCT p) AS distinct_people_related_to_crime, \n",
    "       count(DISTINCT c) AS distinct_crime_with_person\n",
    "\"\"\"\n",
    "stats_2 = graph.run(query_2).data()\n",
    "\n",
    "print('total_people : '+str(stats_1[0]['total_people']))\n",
    "print('total_crimes : '+str(stats_1[0]['total_crimes']))\n",
    "print('total_relations : '+str(stats_2[0]['total_relations'])+'\\n')\n",
    "print('distinct_people_related_to_crime : '+str(stats_2[0]['distinct_people_related_to_crime']))\n",
    "print('distinct_crime_with_person : '+str(stats_2[0]['distinct_crime_with_person']))\n",
    "print('property_of_relation : '+str(graph.run(\"MATCH ()-[r:PARTY_TO]->() RETURN keys(r)\").data()[0]))\n"
   ]
  },
  {
   "cell_type": "markdown",
   "id": "c8f51034",
   "metadata": {},
   "source": [
    "Da questi valori è possibile vedere che :  \n",
    "* una persona partecipa a diversi crimini (*distinct_people_related_to_crime* < *total_relations*);\n",
    "* ogni relazione si riferisce ad un crimine diverso (*distinct_crime_with_person* = *total_relations*);\n",
    "* le relazioni non hanno property per dettagliare in che modo una persona partecipa ad un crimine.  \n",
    "\n",
    "Dopo l'analisi dell'attuale relazione tra *Person* e *Crime*, di seguito è riportata la descrizione delle relazioni che si intendono modellare:\n",
    "* **PARTY_TO** : relazione *generica* per indicare il coinvolgimento di una certa persona in un crimine (sono lasciate quelle che esistono già nel grafo);\n",
    "* **ACCUSED_OF** : relazione *specifica* per indicare una certa persona come accusata di un crimine. Per tutte le persone che hanno *attualmente* una relazione PARTY_TO con un crimine, associo la relazione *ACCUSED_OF* (li considero come accusati);\n",
    "* **WITNESS_TO** : relazione *specifica* che indica una persona come testimone in un crimine. E' necessario introdurre anche la relazione *PARTY_TO*;\n",
    "* **ACCOMPLICE_OF** : relazione *specifica* che definisce una persona come complice in un crimine. E' necessario introdurre anche la relazione *PARTY_TO.*  \n",
    "\n",
    "Per simulare queste relazioni nel grafo, sono stati effettuati i seguenti passaggi:\n",
    "1. per **PARTY_TO**: sono lasciate le relazioni già esistenti nel grafo;\n",
    "2. per **ACCUSED_OF**: relazioni aggiunte tra tutti i nodi aventi già la relazione *PARTY_TO*;\n",
    "3. per **WITNESS_TO** e **ACCOMPLICE_OF**: è creato un apposito file csv contenente le colonne : *crime_id*, *WITNESS_TO*, *ACCOMPLICE_OF*. Ovvero per ogni riga è presente l'id di un crimine con i relativi id di persone considerate come testimoni e complici per quel crimine. In particolare sono stati considerati tutti i crimini con la relazione *PARTY_TO* e per la determinazione dei testimoni e dei complici la scelta è casuale su tutte quelle persone non ancora connesse ad un crimine.  \n",
    "\n",
    "Di seguito ci si è occupati dei **punti 1 e 2** (**PARTY_TO** e **ACCUSED_OF**)."
   ]
  },
  {
   "cell_type": "code",
   "execution_count": 8,
   "id": "8f99d7f7",
   "metadata": {},
   "outputs": [
    {
     "data": {
      "text/plain": [
       "[{'number_rel_ACCUSED_OF': 55}]"
      ]
     },
     "execution_count": 8,
     "metadata": {},
     "output_type": "execute_result"
    }
   ],
   "source": [
    "query = \"\"\"\n",
    "MATCH (p:Person)-[r:PARTY_TO]->(c:Crime)\n",
    "MERGE (p)-[r_accused:ACCUSED_OF]->(c)\n",
    "RETURN count(r_accused) as number_rel_ACCUSED_OF\n",
    "\"\"\"\n",
    "\n",
    "graph.run(query).data()"
   ]
  },
  {
   "cell_type": "markdown",
   "id": "0ce59601",
   "metadata": {},
   "source": [
    "Per il **punto 3**, di seguito è riportata la funzione per la generazione del file csv e poi successivamente questo sarà utilizzato per l'inserimento delle relazioni."
   ]
  },
  {
   "cell_type": "code",
   "execution_count": 76,
   "id": "d5c493a3",
   "metadata": {},
   "outputs": [],
   "source": [
    "import csv\n",
    "import random\n",
    "\n",
    "def generate_dataset(graph):\n",
    "    \"\"\"\n",
    "    Generazione csv per le nuove relazioni del grafo.\n",
    "    COLONNE : crime_id, WITNESS_TO, ACCOMPLICE_OF\n",
    "    \n",
    "    \"\"\"\n",
    "    \n",
    "    # TUTTI i Crime con la relazione PARTY_TO\n",
    "    query_crimes_id = \"\"\"\n",
    "    MATCH (p:Person)-[:PARTY_TO]->(c:Crime) \n",
    "    RETURN DISTINCT c.id AS id\n",
    "    \"\"\"\n",
    "    crimes_id = [crime['id'] for crime in graph.run(query_crimes_id).data()]\n",
    "    \n",
    "    # TUTTE le persone non ancora in relazione con un crimine ('nhs_no' è l'identificativo univoco).\n",
    "    query_people_id = \"\"\"\n",
    "    MATCH (p:Person) \n",
    "    WHERE NOT (p)-[:PARTY_TO]->(:Crime)\n",
    "    RETURN DISTINCT p.nhs_no AS id\n",
    "    \"\"\"\n",
    "    people_id = [person['id'] for person in graph.run(query_people_id).data()]\n",
    "    \n",
    "    # Creazione csv con i relativi valori.\n",
    "    with open('./data/dataset.csv', 'w', newline='') as file:\n",
    "        writer = csv.writer(file)\n",
    "        writer.writerow([\"crime_id\", \"WITNESS_TO\", \"ACCOMPLICE_OF\"])\n",
    "        start = 0\n",
    "        end = len(people_id)-1\n",
    "        \n",
    "        # per TUTTI i Crimes con relazione PARTY_TO definisco sia WITNESS che ACCOMPLICE\n",
    "        for crime_id in crimes_id:\n",
    "            \n",
    "            # testimone e complice scelti casualmente tra le persone non ancora collegate a crimini\n",
    "            witness_to = people_id[random.randint(start, end)]\n",
    "            accomplice_of = people_id[random.randint(start, end)]\n",
    "            \n",
    "            # per evitare che il testimone e il complice siano la stessa persona nello stesso crimine\n",
    "            while (witness_to == accomplice_of):\n",
    "                accomplice_of = people_id[random.randint(start, end)]\n",
    "                \n",
    "            writer.writerow([crime_id, witness_to, accomplice_of])\n",
    "    \n",
    "generate_dataset(graph)"
   ]
  },
  {
   "cell_type": "code",
   "execution_count": 117,
   "id": "f8e9d281",
   "metadata": {},
   "outputs": [
    {
     "name": "stdout",
     "output_type": "stream",
     "text": [
      "crime_id,WITNESS_TO,ACCOMPLICE_OF\r\n",
      "00196bf89518161241d405622cfefa2cc3a02a1175b0133d9ca8d5d064e77981,595-90-8809,884-33-9676\r\n",
      "875d234d8e6e4328aa54242aecbc5423ca3561cee28b6a420a33daee1109a261,213-32-1448,446-36-0249\r\n",
      "de2d17e8d7782fbfb6f7ddd746954ae25dd3d5a7e6de4df429caa57f79474e48,689-65-9692,450-68-4090\r\n",
      "de1c4d40bdb618664ce29c7edd6b329218b0c8ff01c18ab446755b38ab363d05,323-71-3763,256-31-7892\r\n",
      "04b0d2f1b563a455d55b2f2c24ef86564f1146630fc7d392e657ecf5f47303da,463-00-8389,991-70-5333\r\n",
      "211005c29462004762fe6e69cc516cd75c13e98f93b07101d16b1ad6cd65d5db,392-52-7176,852-52-0933\r\n",
      "0bf340c716089d015fbbc05fdf0c907f56154b190b23da6f9706615ffabd6c20,659-67-2728,401-01-1355\r\n",
      "2c3efee8d4682cff4081bebf3aecc9504c6a209b1f5dd11198f0c8c05904a05c,323-32-8478,535-67-6237\r\n",
      "34f309ebafbd1c46b5c4832f63321a10330835a5ae323952419439b69633bb2c,493-92-1993,520-24-8922\r\n"
     ]
    }
   ],
   "source": [
    "! head ./data/dataset.csv"
   ]
  },
  {
   "cell_type": "markdown",
   "id": "efb5959d",
   "metadata": {},
   "source": [
    "Una volta creato, il file è caricato su Google Drive e di seguito è riportata la query per la creazione delle relazioni (per ogni relazione WITNESS_TO o ACCOMPLICE_OF è creata anche la relativa relazione PARTY_TO).  \n",
    "Con la prima MATCH definisco i 3 bound node *c*, *p_witness*, *p_accomplice* e poi con le MERGE successive creo le relazioni opportune. In questo modo la singola relazione è creata seguendo il concetto che se non esiste la crea e esiste non ne crea duplicati."
   ]
  },
  {
   "cell_type": "code",
   "execution_count": 9,
   "id": "7ae7cde0",
   "metadata": {},
   "outputs": [
    {
     "data": {
      "text/plain": [
       "[{'number_r_witness': 55,\n",
       "  'number_r_witness_party': 55,\n",
       "  'number_r_accomplice': 55,\n",
       "  'number_r_accomplice_party': 55}]"
      ]
     },
     "execution_count": 9,
     "metadata": {},
     "output_type": "execute_result"
    }
   ],
   "source": [
    "# google link : \"https://drive.google.com/file/d/107No4P8O26oe6RUHdubi3mSucWenzMLO/view?usp=sharing\"\n",
    "# id : 107No4P8O26oe6RUHdubi3mSucWenzMLO\n",
    "# link da usare : \"https://docs.google.com/uc?id=107No4P8O26oe6RUHdubi3mSucWenzMLO&export=download\"\n",
    "\n",
    "# attuale : https://drive.google.com/file/d/107SZIP3I3Q-jv2FpMwzdL9LB4u9pIe_D/view?usp=sharing\n",
    "\n",
    "query = \"\"\"\n",
    "LOAD CSV WITH HEADERS FROM 'https://docs.google.com/uc?id=107SZIP3I3Q-jv2FpMwzdL9LB4u9pIe_D&export=download' AS row\n",
    "MATCH (c:Crime {id: row.crime_id}),\n",
    "      (p_witness:Person {nhs_no: row.WITNESS_TO}),\n",
    "      (p_accomplice:Person {nhs_no: row.ACCOMPLICE_OF})\n",
    "MERGE (p_witness)-[r_witness:WITNESS_TO]->(c)\n",
    "MERGE (p_witness)-[r_witness_party:PARTY_TO]->(c)\n",
    "MERGE (p_accomplice)-[r_accomplice:ACCOMPLICE_OF]->(c)\n",
    "MERGE (p_accomplice)-[r_accomplice_party:PARTY_TO]->(c)\n",
    "RETURN count(r_witness) AS number_r_witness,\n",
    "       count(r_witness_party) AS number_r_witness_party,\n",
    "       count(r_accomplice) AS number_r_accomplice,\n",
    "       count(r_accomplice_party) AS number_r_accomplice_party\n",
    "\"\"\"\n",
    "\n",
    "graph.run(query).data()"
   ]
  },
  {
   "cell_type": "code",
   "execution_count": 10,
   "id": "cdd7f1ef",
   "metadata": {},
   "outputs": [
    {
     "data": {
      "text/plain": [
       "[{'total_relations': 165}]"
      ]
     },
     "execution_count": 10,
     "metadata": {},
     "output_type": "execute_result"
    }
   ],
   "source": [
    "query = \"\"\"\n",
    "MATCH (p:Person)-[r:PARTY_TO]->(c:Crime) \n",
    "RETURN count(r) AS total_relations\n",
    "\"\"\"\n",
    "\n",
    "graph.run(query).data()"
   ]
  },
  {
   "cell_type": "markdown",
   "id": "0a14212f",
   "metadata": {},
   "source": [
    "Sulla base delle modifiche al grafo effettuate, lo schema generale diventa quindi il seguente (con **A** indico le modifiche fatte in sezione 2.1 e con **B** nella 2.2).  \n",
    "\n",
    "<img src=\"./img/new_graph.png\" width=\"1000\"/>"
   ]
  },
  {
   "cell_type": "markdown",
   "id": "a29889b7",
   "metadata": {},
   "source": [
    "# 3. Query"
   ]
  },
  {
   "cell_type": "markdown",
   "id": "4b1cf479",
   "metadata": {},
   "source": [
    "## 3.1. Per quali crimini risulta che l'accusato ha chiamato telefonicamente un proprio complice più di 1 volta\n",
    "\n",
    "Con i dati a disposizione non è possibile ritornare nessun crimine con questa caratteristica.\n",
    "A fini dimostrativi quindi, è stato aggiunto in riferimento al crimine di id *\\\"00196bf89518161241d405622cfefa2cc3a02a1175b0133d9ca8d5d064e77981\"* (con accusato avente *nhs:\\\"821-11-2735\"*), un nuovo complice (*nhs_no:\\\"680-93-7668\"*) il quale è stato chiamato e ha chiamato l'accusato del crimine considerato (sono state fatte query apposite per trovarlo, ed è stato visto che le chiamate tra i due sono in tutto 4: 2 in un senso e 2 nell'altro).  \n",
    "Di seguito quindi è riportato il codice per l'inserimento della nuova relazione *ACCOMPLICE_OF.* "
   ]
  },
  {
   "cell_type": "code",
   "execution_count": 11,
   "id": "47d6b92e",
   "metadata": {},
   "outputs": [
    {
     "name": "stdout",
     "output_type": "stream",
     "text": [
      "[{'num_rel_p_c': 1}]\n"
     ]
    }
   ],
   "source": [
    "# inserimento della nuova relazione : aggiungo un nuovo complice al crimine.\n",
    "# questo complice è stato visto che ha contatti telefonici con l'accusato del crimine considerato\n",
    "\n",
    "inser_query = \"\"\"\n",
    "MATCH (c:Crime {id: \"00196bf89518161241d405622cfefa2cc3a02a1175b0133d9ca8d5d064e77981\"}),\n",
    "      (p:Person {nhs_no: \"680-93-7668\"})\n",
    "MERGE (p)-[:ACCOMPLICE_OF]->(c)\n",
    "RETURN size( (p)-[:ACCOMPLICE_OF]->(c) ) AS num_rel_p_c\n",
    "\"\"\"\n",
    "print(graph.run(inser_query).data())"
   ]
  },
  {
   "cell_type": "markdown",
   "id": "ff470f98",
   "metadata": {},
   "source": [
    "Sulla base della nuova relazione inserita, la query seguente ritorna il crimine nel quale l'accusato ha chiamato il complice più di 1 volta.  \n",
    "Per modellare il caso in cui si vuole trovare i crimini in cui l'accusato e il chiamante hanno avuto un contatto telefonico (senza quindi considerare i vincoli su chi ha effettuato la chiamata e chi l'ha ricevuta), basta eliminare nella query la tipologia delle relazioni (al posto di [:CALLER] e [:CALLED] usare [] e []) e in questo caso la query ritornerebbe un numero di chiamate pari a 4, ovvero le chiamate totali effettuate tra i due soggetti."
   ]
  },
  {
   "cell_type": "code",
   "execution_count": 13,
   "id": "118bc7fe",
   "metadata": {},
   "outputs": [
    {
     "data": {
      "text/html": [
       "<div>\n",
       "<style scoped>\n",
       "    .dataframe tbody tr th:only-of-type {\n",
       "        vertical-align: middle;\n",
       "    }\n",
       "\n",
       "    .dataframe tbody tr th {\n",
       "        vertical-align: top;\n",
       "    }\n",
       "\n",
       "    .dataframe thead th {\n",
       "        text-align: right;\n",
       "    }\n",
       "</style>\n",
       "<table border=\"1\" class=\"dataframe\">\n",
       "  <thead>\n",
       "    <tr style=\"text-align: right;\">\n",
       "      <th></th>\n",
       "      <th>crimine</th>\n",
       "      <th>accusato_chiamante</th>\n",
       "      <th>complice_chiamato</th>\n",
       "      <th>n_chiamate</th>\n",
       "    </tr>\n",
       "  </thead>\n",
       "  <tbody>\n",
       "    <tr>\n",
       "      <th>0</th>\n",
       "      <td>00196bf89518161241d405622cfefa2cc3a02a1175b013...</td>\n",
       "      <td>821-11-2735</td>\n",
       "      <td>680-93-7668</td>\n",
       "      <td>2</td>\n",
       "    </tr>\n",
       "  </tbody>\n",
       "</table>\n",
       "</div>"
      ],
      "text/plain": [
       "                                             crimine accusato_chiamante  \\\n",
       "0  00196bf89518161241d405622cfefa2cc3a02a1175b013...        821-11-2735   \n",
       "\n",
       "  complice_chiamato  n_chiamate  \n",
       "0       680-93-7668           2  "
      ]
     },
     "metadata": {},
     "output_type": "display_data"
    }
   ],
   "source": [
    "query_1 = \"\"\"\n",
    "MATCH (chiamante)-[:ACCUSED_OF]->(c:Crime)<-[:ACCOMPLICE_OF]-(chiamato),\n",
    "      (chiamante)-[:HAS_PHONE]->(telefono_chiamante:Phone),\n",
    "      (telefono_chiamante:Phone)<-[:CALLER]-(chiamata:PhoneCall)-[:CALLED]->(telefono_chiamato:Phone),\n",
    "      (chiamato)-[:HAS_PHONE]->(telefono_chiamato:Phone)\n",
    "WITH c, chiamante, chiamato, count(*) AS n_chiamate\n",
    "WHERE n_chiamate >= 2\n",
    "RETURN c.id AS crimine, \n",
    "       chiamante.nhs_no AS accusato_chiamante, \n",
    "       chiamato.nhs_no AS complice_chiamato,\n",
    "       n_chiamate\n",
    "\"\"\"\n",
    "\n",
    "display(graph.run(query_1).to_data_frame())"
   ]
  },
  {
   "cell_type": "markdown",
   "id": "72d2ca17",
   "metadata": {},
   "source": [
    "## 3.2. Trovare il/i complice/i della persona con nhs_no='821-11-2735' per quei crimini da lui commessi dal 10 agosto al 20 agosto 2017  \n",
    " \n",
    "E' necessario effettuare uno split della data in modo da ricavare le componenti del giorno, del mese e dell'anno.\n",
    "In questo caso risulta che esistono 3 complici dell'accusato con nhs_no='821-11-2735' per i crimini da lui commessi dal 10/08/17 al 20/08/17."
   ]
  },
  {
   "cell_type": "code",
   "execution_count": 15,
   "id": "8f9e66d8",
   "metadata": {},
   "outputs": [
    {
     "data": {
      "text/html": [
       "<div>\n",
       "<style scoped>\n",
       "    .dataframe tbody tr th:only-of-type {\n",
       "        vertical-align: middle;\n",
       "    }\n",
       "\n",
       "    .dataframe tbody tr th {\n",
       "        vertical-align: top;\n",
       "    }\n",
       "\n",
       "    .dataframe thead th {\n",
       "        text-align: right;\n",
       "    }\n",
       "</style>\n",
       "<table border=\"1\" class=\"dataframe\">\n",
       "  <thead>\n",
       "    <tr style=\"text-align: right;\">\n",
       "      <th></th>\n",
       "      <th>complice</th>\n",
       "    </tr>\n",
       "  </thead>\n",
       "  <tbody>\n",
       "    <tr>\n",
       "      <th>0</th>\n",
       "      <td>680-93-7668</td>\n",
       "    </tr>\n",
       "    <tr>\n",
       "      <th>1</th>\n",
       "      <td>884-33-9676</td>\n",
       "    </tr>\n",
       "    <tr>\n",
       "      <th>2</th>\n",
       "      <td>446-36-0249</td>\n",
       "    </tr>\n",
       "  </tbody>\n",
       "</table>\n",
       "</div>"
      ],
      "text/plain": [
       "      complice\n",
       "0  680-93-7668\n",
       "1  884-33-9676\n",
       "2  446-36-0249"
      ]
     },
     "metadata": {},
     "output_type": "display_data"
    }
   ],
   "source": [
    "query = \"\"\"\n",
    "MATCH (accusato:Person {nhs_no: '821-11-2735'})-[:ACCUSED_OF]->(c:Crime)<-[:ACCOMPLICE_OF]-(complice:Person)\n",
    "WITH complice, [item in split(c.date, \"/\") | toInteger(item)] AS dateComp\n",
    "WHERE date(\"2017-08-10\") <= date({day: dateComp[0], month: dateComp[1], year: dateComp[2]}) <= date(\"2017-08-20\")\n",
    "RETURN DISTINCT complice.nhs_no AS complice\n",
    "\"\"\"\n",
    "\n",
    "display(graph.run(query).to_data_frame())"
   ]
  },
  {
   "cell_type": "markdown",
   "id": "34c72ddf",
   "metadata": {},
   "source": [
    "## 3.3 Tipologia di crimine verificato più di frequente per ciascun postcode  (riportare i primi 10 risultati)\n",
    "\n",
    "In questo caso è stato necessario :\n",
    "1. effettuare il conteggio di ciascun tipo di crimine per ogni *postcode* e quindi ottenere triple del tipo:  \n",
    "    *postcode*, *type_*, *num_type* \n",
    "2. ordinare per *num_type*\n",
    "3. per ciascun *postcode* calcolare la corrispondente lista dei tipi di crimini in esso verificati per poi selezionare solo il primo elemento (cioè il più frequente essendo la lista ordinata).  \n",
    "\n",
    "Questa query è stata fatta principalmente per fini dimostrativi in quanto il tutto potrebbe essere semplificato utilizzando le [APOC](https://neo4j.com/developer/neo4j-apoc/). Lo stesso risultato infatti potrebbe essere ottenuto tramite l'utilizzo della [*apoc.agg.maxItems()*](https://neo4j.com/labs/apoc/4.3/overview/apoc.agg/apoc.agg.maxItems/) che in sostanza prende in input delle coppie (item, value) e ritorna la lista di item che sono associati al value maggiore. Nel caso in esame, in riferimento a ciascun *postcode*, sono passati alla funzione i tipi di crimine verificati (item) con il relativo numero di occorrenze (value) ed in output è ritornato (per ogni diverso *postcode*) i/il corrispettivo tipo di crimine (*.items*) con l'occorrenza *maggiore* (*.value*)."
   ]
  },
  {
   "cell_type": "code",
   "execution_count": 23,
   "id": "9ab206e9",
   "metadata": {},
   "outputs": [
    {
     "data": {
      "text/html": [
       "<div>\n",
       "<style scoped>\n",
       "    .dataframe tbody tr th:only-of-type {\n",
       "        vertical-align: middle;\n",
       "    }\n",
       "\n",
       "    .dataframe tbody tr th {\n",
       "        vertical-align: top;\n",
       "    }\n",
       "\n",
       "    .dataframe thead th {\n",
       "        text-align: right;\n",
       "    }\n",
       "</style>\n",
       "<table border=\"1\" class=\"dataframe\">\n",
       "  <thead>\n",
       "    <tr style=\"text-align: right;\">\n",
       "      <th></th>\n",
       "      <th>postcode</th>\n",
       "      <th>most_frequent_crime</th>\n",
       "      <th>frequence</th>\n",
       "    </tr>\n",
       "  </thead>\n",
       "  <tbody>\n",
       "    <tr>\n",
       "      <th>0</th>\n",
       "      <td>M1 1LU</td>\n",
       "      <td>Violence and sexual offences</td>\n",
       "      <td>47</td>\n",
       "    </tr>\n",
       "    <tr>\n",
       "      <th>1</th>\n",
       "      <td>M60 1TA</td>\n",
       "      <td>Shoplifting</td>\n",
       "      <td>32</td>\n",
       "    </tr>\n",
       "    <tr>\n",
       "      <th>2</th>\n",
       "      <td>M3 1DA</td>\n",
       "      <td>Violence and sexual offences</td>\n",
       "      <td>32</td>\n",
       "    </tr>\n",
       "    <tr>\n",
       "      <th>3</th>\n",
       "      <td>M40 9BY</td>\n",
       "      <td>Violence and sexual offences</td>\n",
       "      <td>30</td>\n",
       "    </tr>\n",
       "    <tr>\n",
       "      <th>4</th>\n",
       "      <td>M4 3AL</td>\n",
       "      <td>Shoplifting</td>\n",
       "      <td>28</td>\n",
       "    </tr>\n",
       "    <tr>\n",
       "      <th>5</th>\n",
       "      <td>M60 9AH</td>\n",
       "      <td>Violence and sexual offences</td>\n",
       "      <td>23</td>\n",
       "    </tr>\n",
       "    <tr>\n",
       "      <th>6</th>\n",
       "      <td>WN7 5SJ</td>\n",
       "      <td>Shoplifting</td>\n",
       "      <td>21</td>\n",
       "    </tr>\n",
       "    <tr>\n",
       "      <th>7</th>\n",
       "      <td>OL1 1QN</td>\n",
       "      <td>Shoplifting</td>\n",
       "      <td>21</td>\n",
       "    </tr>\n",
       "    <tr>\n",
       "      <th>8</th>\n",
       "      <td>M17 8JL</td>\n",
       "      <td>Shoplifting</td>\n",
       "      <td>17</td>\n",
       "    </tr>\n",
       "    <tr>\n",
       "      <th>9</th>\n",
       "      <td>OL16 1AW</td>\n",
       "      <td>Violence and sexual offences</td>\n",
       "      <td>17</td>\n",
       "    </tr>\n",
       "  </tbody>\n",
       "</table>\n",
       "</div>"
      ],
      "text/plain": [
       "   postcode           most_frequent_crime  frequence\n",
       "0    M1 1LU  Violence and sexual offences         47\n",
       "1   M60 1TA                   Shoplifting         32\n",
       "2    M3 1DA  Violence and sexual offences         32\n",
       "3   M40 9BY  Violence and sexual offences         30\n",
       "4    M4 3AL                   Shoplifting         28\n",
       "5   M60 9AH  Violence and sexual offences         23\n",
       "6   WN7 5SJ                   Shoplifting         21\n",
       "7   OL1 1QN                   Shoplifting         21\n",
       "8   M17 8JL                   Shoplifting         17\n",
       "9  OL16 1AW  Violence and sexual offences         17"
      ]
     },
     "metadata": {},
     "output_type": "display_data"
    },
    {
     "data": {
      "text/html": [
       "<div>\n",
       "<style scoped>\n",
       "    .dataframe tbody tr th:only-of-type {\n",
       "        vertical-align: middle;\n",
       "    }\n",
       "\n",
       "    .dataframe tbody tr th {\n",
       "        vertical-align: top;\n",
       "    }\n",
       "\n",
       "    .dataframe thead th {\n",
       "        text-align: right;\n",
       "    }\n",
       "</style>\n",
       "<table border=\"1\" class=\"dataframe\">\n",
       "  <thead>\n",
       "    <tr style=\"text-align: right;\">\n",
       "      <th></th>\n",
       "      <th>postcode</th>\n",
       "      <th>most_frequent_crime</th>\n",
       "      <th>frequence</th>\n",
       "    </tr>\n",
       "  </thead>\n",
       "  <tbody>\n",
       "    <tr>\n",
       "      <th>0</th>\n",
       "      <td>M1 1LU</td>\n",
       "      <td>[Violence and sexual offences]</td>\n",
       "      <td>47</td>\n",
       "    </tr>\n",
       "    <tr>\n",
       "      <th>1</th>\n",
       "      <td>M60 1TA</td>\n",
       "      <td>[Shoplifting]</td>\n",
       "      <td>32</td>\n",
       "    </tr>\n",
       "    <tr>\n",
       "      <th>2</th>\n",
       "      <td>M3 1DA</td>\n",
       "      <td>[Violence and sexual offences]</td>\n",
       "      <td>32</td>\n",
       "    </tr>\n",
       "    <tr>\n",
       "      <th>3</th>\n",
       "      <td>M40 9BY</td>\n",
       "      <td>[Violence and sexual offences]</td>\n",
       "      <td>30</td>\n",
       "    </tr>\n",
       "    <tr>\n",
       "      <th>4</th>\n",
       "      <td>M4 3AL</td>\n",
       "      <td>[Shoplifting]</td>\n",
       "      <td>28</td>\n",
       "    </tr>\n",
       "    <tr>\n",
       "      <th>5</th>\n",
       "      <td>M60 9AH</td>\n",
       "      <td>[Violence and sexual offences]</td>\n",
       "      <td>23</td>\n",
       "    </tr>\n",
       "    <tr>\n",
       "      <th>6</th>\n",
       "      <td>WN7 5SJ</td>\n",
       "      <td>[Shoplifting]</td>\n",
       "      <td>21</td>\n",
       "    </tr>\n",
       "    <tr>\n",
       "      <th>7</th>\n",
       "      <td>OL1 1QN</td>\n",
       "      <td>[Shoplifting]</td>\n",
       "      <td>21</td>\n",
       "    </tr>\n",
       "    <tr>\n",
       "      <th>8</th>\n",
       "      <td>OL16 1AW</td>\n",
       "      <td>[Violence and sexual offences]</td>\n",
       "      <td>17</td>\n",
       "    </tr>\n",
       "    <tr>\n",
       "      <th>9</th>\n",
       "      <td>M17 8JL</td>\n",
       "      <td>[Shoplifting]</td>\n",
       "      <td>17</td>\n",
       "    </tr>\n",
       "  </tbody>\n",
       "</table>\n",
       "</div>"
      ],
      "text/plain": [
       "   postcode             most_frequent_crime  frequence\n",
       "0    M1 1LU  [Violence and sexual offences]         47\n",
       "1   M60 1TA                   [Shoplifting]         32\n",
       "2    M3 1DA  [Violence and sexual offences]         32\n",
       "3   M40 9BY  [Violence and sexual offences]         30\n",
       "4    M4 3AL                   [Shoplifting]         28\n",
       "5   M60 9AH  [Violence and sexual offences]         23\n",
       "6   WN7 5SJ                   [Shoplifting]         21\n",
       "7   OL1 1QN                   [Shoplifting]         21\n",
       "8  OL16 1AW  [Violence and sexual offences]         17\n",
       "9   M17 8JL                   [Shoplifting]         17"
      ]
     },
     "metadata": {},
     "output_type": "display_data"
    }
   ],
   "source": [
    "# query senza APOC\n",
    "\n",
    "query = \"\"\"\n",
    "MATCH (type:CrimeType)<-[OF_TYPE]-(c:Crime)-[:OCCURRED_AT]->(loc:Location)\n",
    "WITH loc.postcode AS postcode, type.name AS type_, count(*) AS num_type \n",
    "ORDER BY num_type DESC\n",
    "RETURN postcode, collect(type_)[0] AS most_frequent_crime, max(num_type) AS frequence\n",
    "LIMIT 10\n",
    "\"\"\"\n",
    "\n",
    "# query con APOC\n",
    "\n",
    "query_apoc = \"\"\"\n",
    "MATCH (type:CrimeType)<-[OF_TYPE]-(c:Crime)-[:OCCURRED_AT]->(loc:Location)\n",
    "WITH loc.postcode AS postcode, type.name AS type_, count(*) AS num_type\n",
    "WITH postcode, apoc.agg.maxItems(type_, num_type) AS max_freq_type\n",
    "RETURN postcode, max_freq_type.items AS most_frequent_crime, max_freq_type.value AS frequence\n",
    "ORDER BY frequence DESC\n",
    "LIMIT 10\n",
    "\"\"\"\n",
    "\n",
    "display(graph.run(query).to_data_frame())\n",
    "display(graph.run(query_apoc).to_data_frame())"
   ]
  },
  {
   "cell_type": "markdown",
   "id": "8637b6a7",
   "metadata": {},
   "source": [
    "## 3.4 Dato l'id di un certo crimine, trovare le persone conoscenti con l'accusato (anche indiretti, ma al massimo di 2 hop) che partecipano in un qualche modo ad altri crimini (e NON a quello in esame) verificati in un raggio di 500 metri da quello considerato\n",
    "\n",
    "E' stato scelto di utilizzare l'id *\\\"00196bf89518161241d405622cfefa2cc3a02a1175b0133d9ca8d5d064e77981\"* per l'identificazione del crimine su cui la query va ad agire.  \n",
    "Per modellare la richiesta *\\\"...che partecipano in un qualche modo ad altri crimini...\"* è utilizzata la relazione generica *PARTY_TO* presente per qualsiasi persona legata (testimone, accusato, complice) ad un certo crimine.  \n"
   ]
  },
  {
   "cell_type": "code",
   "execution_count": 29,
   "id": "6dcb2cdf",
   "metadata": {},
   "outputs": [
    {
     "data": {
      "text/html": [
       "<div>\n",
       "<style scoped>\n",
       "    .dataframe tbody tr th:only-of-type {\n",
       "        vertical-align: middle;\n",
       "    }\n",
       "\n",
       "    .dataframe tbody tr th {\n",
       "        vertical-align: top;\n",
       "    }\n",
       "\n",
       "    .dataframe thead th {\n",
       "        text-align: right;\n",
       "    }\n",
       "</style>\n",
       "<table border=\"1\" class=\"dataframe\">\n",
       "  <thead>\n",
       "    <tr style=\"text-align: right;\">\n",
       "      <th></th>\n",
       "      <th>conoscenti_accusato</th>\n",
       "    </tr>\n",
       "  </thead>\n",
       "  <tbody>\n",
       "    <tr>\n",
       "      <th>0</th>\n",
       "      <td>468-82-3915</td>\n",
       "    </tr>\n",
       "    <tr>\n",
       "      <th>1</th>\n",
       "      <td>678-06-9352</td>\n",
       "    </tr>\n",
       "    <tr>\n",
       "      <th>2</th>\n",
       "      <td>252-29-4929</td>\n",
       "    </tr>\n",
       "  </tbody>\n",
       "</table>\n",
       "</div>"
      ],
      "text/plain": [
       "  conoscenti_accusato\n",
       "0         468-82-3915\n",
       "1         678-06-9352\n",
       "2         252-29-4929"
      ]
     },
     "execution_count": 29,
     "metadata": {},
     "output_type": "execute_result"
    }
   ],
   "source": [
    "query = \"\"\"\n",
    "MATCH (accused:Person)-[:ACCUSED_OF]->(c:Crime {id: \"00196bf89518161241d405622cfefa2cc3a02a1175b0133d9ca8d5d064e77981\"})-[:OCCURRED_AT]->(loc:Location)\n",
    "WITH accused, c, point(loc) AS coord_loc\n",
    "MATCH (p:Person)-[:PARTY_TO]->(c_other:Crime)-[:OCCURRED_AT]->(loc_other:Location),\n",
    "      (p)-[:KNOWS*..2]-(accused)\n",
    "WITH accused, p, distance(coord_loc, point(loc_other)) AS distance\n",
    "WHERE distance < 500\n",
    "      AND NOT (p:Person)-[:PARTY_TO]->(c)\n",
    "RETURN DISTINCT p.nhs_no AS conoscenti_accusato\n",
    "\"\"\"\n",
    "# il vincolo    NOT (p:Person)-[:PARTY_TO]->(c)    mi permette di selezionare quelle p che non hanno \n",
    "# partecipato al crimine in esame. Non è quindi necessario controllare che    c_other <> c     e che   p <> accused\n",
    "\n",
    "\n",
    "graph.run(query).to_data_frame()"
   ]
  },
  {
   "cell_type": "markdown",
   "id": "9a6671b2",
   "metadata": {},
   "source": [
    "## 3.5 Trovare il numero di persone 'vulnerabili' nel grafo\n",
    "\n",
    "Estendendo il concetto di vulnerabilità dell'esempio della sandbox (slide 12/26), adesso una persona per poter essere considerata vulnerabile deve soddisfare *tutti* questi requisiti:\n",
    "1. non aver mai partecipato nei ruoli di 'accusato' o 'complice' in un crimine;\n",
    "2. essere testimone di un crimine *oppure* conoscere direttamente qualcuno che abbia partecipato ad un crimine come accusato o come complice.  \n",
    "\n",
    "In relazione a questa query sono riportati diversi approcci possibili :\n",
    "* **metodo_1**: consente di trovare le persone vulnerabili sfruttando il predicato [exists()](https://neo4j.com/docs/cypher-manual/current/functions/predicate/#functions-exists) che ritorna *true* se il pattern specificato esiste (*false* altrimenti) e le [pipe](https://neo4j.com/docs/cypher-manual/current/clauses/match/#match-on-multiple-rel-types) per poter fare match su tipi diversi di relazioni utilizzando un solo pattern. Questo approccio risulta però poco flessibile in quanto permette sì di ritornare tutte le persone vulnerbili, ma non viene tenuto il riferimento alle relative persone pericolose (necessario per query più complesse);\n",
    "* **metodo_2**: query con maggiore flessibilità in quanto riesco ad avere il riferimento, in relazione a ciascuna persona vulnerabile, della relativa lista di persone pericolose. In questo caso una certa persona *p* è considerata vulnerabile se la relativa *danger_list* è > 0. Infatti in riferimento al codice scritto, se la *danger_list* (i cui duplicati sono stati tolti tramite [APOC](https://neo4j.com/developer/neo4j-apoc/)) è > 0, significa che esiste almeno un *danger_1* o *danger_2* non *Null* (ricavati tramite [OPTIONAL_MATCH](https://neo4j.com/docs/cypher-manual/current/clauses/optional-match/)), ovvero che il punto 2 della condizione di vulnerabilità è soddisfatto; \n",
    "* **metodo_3**: è un'ulteriore modalità che sfrutta la stessa logica della *danger_list* di prima, ma per la sua creazione sono utilizzati i [patter comprehension](https://neo4j.com/docs/cypher-manual/current/syntax/lists/#cypher-pattern-comprehension). La *danger_list* è infatti creata come un insieme senza duplicati a partire dall'unione delle due liste contenenti i valori di *danger_1* e *danger_2*. Per ciascuna di queste liste, gli elementi al proprio interno corrispondono ai nodi che fanno match con il pattern definito nella pattern comprehension."
   ]
  },
  {
   "cell_type": "code",
   "execution_count": 30,
   "id": "5ec98317",
   "metadata": {},
   "outputs": [
    {
     "name": "stdout",
     "output_type": "stream",
     "text": [
      "metodo_1: \n",
      "{'total_vulnerable_people': 177}\n",
      "\n",
      "metodo_2: \n",
      "{'total_vulnerable_people': 177}\n",
      "\n",
      "metodo_3: \n",
      "{'total_vulnerable_people': 177}\n"
     ]
    }
   ],
   "source": [
    "##  metodo_1\n",
    "\n",
    "query_1 = \"\"\"\n",
    "MATCH (p:Person)\n",
    "WHERE NOT exists((p)-[:ACCUSED_OF|ACCOMPLICE_OF]->(:Crime))\n",
    "      AND ( \n",
    "              exists((p)-[:WITNESS_TO]->(:Crime))\n",
    "              OR \n",
    "              exists((p)-[:KNOWS]-(:Person)-[:ACCUSED_OF|ACCOMPLICE_OF]->(:Crime))\n",
    "          )\n",
    "RETURN count(DISTINCT p) AS total_vulnerable_people    \n",
    "\"\"\"\n",
    "print('metodo_1: ')\n",
    "print(graph.run(query_1).data()[0])\n",
    "\n",
    "\n",
    "##  metodo_2\n",
    "\n",
    "query_2 = \"\"\"\n",
    "MATCH (p:Person)\n",
    "WHERE NOT exists((p)-[:ACCUSED_OF|ACCOMPLICE_OF]->(:Crime))\n",
    "OPTIONAL MATCH (p)-[:WITNESS_TO]->(:Crime)<-[:ACCUSED_OF|ACCOMPLICE_OF]-(danger_1:Person)\n",
    "OPTIONAL MATCH (p)-[:KNOWS]-(danger_2:Person)-[:ACCUSED_OF|ACCOMPLICE_OF]->(:Crime)\n",
    "WITH p, apoc.coll.toSet(COLLECT(DISTINCT danger_1.nhs_no)\n",
    "                        +\n",
    "                        COLLECT(DISTINCT danger_2.nhs_no)\n",
    "                       ) AS danger_list\n",
    "WHERE size(danger_list)>0\n",
    "RETURN count(distinct(p)) AS total_vulnerable_people \n",
    "\"\"\"\n",
    "print('\\nmetodo_2: ')\n",
    "print(graph.run(query_2).data()[0])\n",
    "\n",
    "\n",
    "##  metodo_3\n",
    "\n",
    "query_3 = \"\"\"\n",
    "MATCH (p:Person)\n",
    "WHERE NOT exists((p)-[:ACCUSED_OF|ACCOMPLICE_OF]->(:Crime)) \n",
    "WITH p, apoc.coll.toSet(\n",
    "                        [ (p)-[:WITNESS_TO]->(:Crime)<-[:ACCUSED_OF|ACCOMPLICE_OF]-(danger_1:Person) | danger_1] \n",
    "                        + \n",
    "                        [ (p)-[:KNOWS]-(danger_2:Person)-[:ACCUSED_OF|ACCOMPLICE_OF]->(:Crime) | danger_2]\n",
    "                       ) AS danger_list\n",
    "WHERE size(danger_list)>0\n",
    "RETURN count(distinct(p)) AS total_vulnerable_people \n",
    "\"\"\"\n",
    "print('\\nmetodo_3: ')\n",
    "print(graph.run(query_3).data()[0])"
   ]
  },
  {
   "cell_type": "markdown",
   "id": "0243b907",
   "metadata": {},
   "source": [
    "## 3.6 Per ciascuna persona vulnerabile trovare la lista contenente le rispettive persone pericolose che si trovano nelle sue vicinanze. Riordinare i risultati sulla base del numero di persone pericolose ad esso vicino   \n",
    "\n",
    "Si tratta dell'estensione della query nella slide 15/26 della sandbox adattata alla nuova definizione di persona vulnerabile.  \n",
    "Sulla base della query 3.5 sono state aggiunte le clausole *WHERE* nelle relative pattern comprehension in modo tale da creare, per ciascun soggetto vulnerabile, una lista composta solamente dalle persone pericolose (senza duplicati) che attualmente si trovano nella stessa area del soggetto fragile. "
   ]
  },
  {
   "cell_type": "code",
   "execution_count": 31,
   "id": "718d4747",
   "metadata": {},
   "outputs": [
    {
     "data": {
      "text/html": [
       "<div>\n",
       "<style scoped>\n",
       "    .dataframe tbody tr th:only-of-type {\n",
       "        vertical-align: middle;\n",
       "    }\n",
       "\n",
       "    .dataframe tbody tr th {\n",
       "        vertical-align: top;\n",
       "    }\n",
       "\n",
       "    .dataframe thead th {\n",
       "        text-align: right;\n",
       "    }\n",
       "</style>\n",
       "<table border=\"1\" class=\"dataframe\">\n",
       "  <thead>\n",
       "    <tr style=\"text-align: right;\">\n",
       "      <th></th>\n",
       "      <th>vulnerabile</th>\n",
       "      <th>area_code</th>\n",
       "      <th>lista_persone_pericolose</th>\n",
       "      <th>num_persone_pericolose</th>\n",
       "    </tr>\n",
       "  </thead>\n",
       "  <tbody>\n",
       "    <tr>\n",
       "      <th>0</th>\n",
       "      <td>349-36-6161</td>\n",
       "      <td>SK3</td>\n",
       "      <td>[362-49-5861, 367-54-3328]</td>\n",
       "      <td>2</td>\n",
       "    </tr>\n",
       "    <tr>\n",
       "      <th>1</th>\n",
       "      <td>543-43-9738</td>\n",
       "      <td>WN3</td>\n",
       "      <td>[679-66-9286, 690-09-2036]</td>\n",
       "      <td>2</td>\n",
       "    </tr>\n",
       "    <tr>\n",
       "      <th>2</th>\n",
       "      <td>838-11-7607</td>\n",
       "      <td>M3</td>\n",
       "      <td>[821-11-2735]</td>\n",
       "      <td>1</td>\n",
       "    </tr>\n",
       "    <tr>\n",
       "      <th>3</th>\n",
       "      <td>709-43-8302</td>\n",
       "      <td>BL3</td>\n",
       "      <td>[577-47-4459]</td>\n",
       "      <td>1</td>\n",
       "    </tr>\n",
       "    <tr>\n",
       "      <th>4</th>\n",
       "      <td>640-26-0925</td>\n",
       "      <td>OL9</td>\n",
       "      <td>[589-69-0106]</td>\n",
       "      <td>1</td>\n",
       "    </tr>\n",
       "  </tbody>\n",
       "</table>\n",
       "</div>"
      ],
      "text/plain": [
       "   vulnerabile area_code    lista_persone_pericolose  num_persone_pericolose\n",
       "0  349-36-6161       SK3  [362-49-5861, 367-54-3328]                       2\n",
       "1  543-43-9738       WN3  [679-66-9286, 690-09-2036]                       2\n",
       "2  838-11-7607        M3               [821-11-2735]                       1\n",
       "3  709-43-8302       BL3               [577-47-4459]                       1\n",
       "4  640-26-0925       OL9               [589-69-0106]                       1"
      ]
     },
     "execution_count": 31,
     "metadata": {},
     "output_type": "execute_result"
    }
   ],
   "source": [
    "query = \"\"\"\n",
    "MATCH (p:Person)-[:CURRENT_ADDRESS]->(:Location)-[:LOCATION_IN_AREA]->(area_p:Area)\n",
    "WHERE NOT exists((p)-[:ACCUSED_OF|ACCOMPLICE_OF]->(:Crime)) \n",
    "WITH p, area_p, apoc.coll.toSet(\n",
    "                                [ (p)-[:WITNESS_TO]->(:Crime)<-[:ACCUSED_OF|ACCOMPLICE_OF]-(danger_1:Person)\n",
    "                                  WHERE (danger_1)-[:CURRENT_ADDRESS]->(:Location)-[:LOCATION_IN_AREA]->(area_p) \n",
    "                                  | danger_1.nhs_no] \n",
    "                                + \n",
    "                                [ (p)-[:KNOWS]-(danger_2:Person)-[:ACCUSED_OF|ACCOMPLICE_OF]->(:Crime) \n",
    "                                  WHERE (danger_2)-[:CURRENT_ADDRESS]->(:Location)-[:LOCATION_IN_AREA]->(area_p) \n",
    "                                  | danger_2.nhs_no] \n",
    "                               ) AS danger_list\n",
    "WHERE size(danger_list)>0\n",
    "RETURN p.nhs_no AS vulnerabile,\n",
    "       area_p.areaCode AS area_code,\n",
    "       danger_list AS lista_persone_pericolose,\n",
    "       size(danger_list) AS num_persone_pericolose\n",
    "ORDER BY num_persone_pericolose DESC\n",
    "LIMIT 5  \n",
    "\"\"\"\n",
    "graph.run(query).to_data_frame()"
   ]
  },
  {
   "cell_type": "code",
   "execution_count": null,
   "id": "cbe15997",
   "metadata": {},
   "outputs": [],
   "source": []
  }
 ],
 "metadata": {
  "kernelspec": {
   "display_name": "Python 3 (ipykernel)",
   "language": "python",
   "name": "python3"
  },
  "language_info": {
   "codemirror_mode": {
    "name": "ipython",
    "version": 3
   },
   "file_extension": ".py",
   "mimetype": "text/x-python",
   "name": "python",
   "nbconvert_exporter": "python",
   "pygments_lexer": "ipython3",
   "version": "3.8.5"
  }
 },
 "nbformat": 4,
 "nbformat_minor": 5
}
